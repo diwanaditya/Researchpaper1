{
 "cells": [
  {
   "cell_type": "markdown",
   "source": [
    "# PQC Benchmarks Interactive\n",
    "\n",
    "## Table from main.py\n",
    "| Alg | Op | Mean | Std |\n",
    "|-----|----|------|-----|\n",
    "| Kyber | Keygen | 1.33 | 0.13 |\n",
    "| ... | ... | ... | ... |\n"
   ]
  }
 ],
 "metadata": {...}
}
